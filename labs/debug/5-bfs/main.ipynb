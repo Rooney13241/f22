{
 "cells": [
  {
   "cell_type": "code",
   "execution_count": 1,
   "metadata": {},
   "outputs": [],
   "source": [
    "# Node of a directed acyclic graph\n",
    "class Node():\n",
    "    def __init__(self, k):\n",
    "        self.key = k\n",
    "        self.children = []\n",
    "\n",
    "    def insert_node(self, new_node):\n",
    "        self.children.append(new_node)\n",
    "\n",
    "    def bfs(self):\n",
    "        queue = [self]   # nodes to be visited\n",
    "        visited = set()  # nodes already visited\n",
    "\n",
    "        while len(queue) > 0:\n",
    "            check_node = queue.pop(0)\n",
    "            print(check_node)\n",
    "\n",
    "            for child in self.children:\n",
    "                if child not in visited:\n",
    "                    queue.append(child)\n",
    "                    visited.add(child)\n",
    "                \n",
    "\n",
    "    def __repr__(self):\n",
    "        return str(self.key)"
   ]
  },
  {
   "cell_type": "code",
   "execution_count": 2,
   "metadata": {},
   "outputs": [
    {
     "name": "stdout",
     "output_type": "stream",
     "text": [
      "A\n",
      "B\n",
      "C\n"
     ]
    }
   ],
   "source": [
    "# why does it get stuck?\n",
    "root = Node('A')\n",
    "b = Node('B')\n",
    "c = Node('C')\n",
    "root.insert_node(b)\n",
    "root.insert_node(c)\n",
    "root.bfs()"
   ]
  },
  {
   "cell_type": "code",
   "execution_count": 3,
   "metadata": {},
   "outputs": [
    {
     "name": "stdout",
     "output_type": "stream",
     "text": [
      "A\n",
      "B\n",
      "C\n",
      "D\n",
      "E\n",
      "F\n",
      "G\n"
     ]
    }
   ],
   "source": [
    "# why doesn't it print each child EXACTLY once?\n",
    "d = Node('D')\n",
    "e = Node('E')\n",
    "f = Node('F')\n",
    "g = Node('G')\n",
    "root.insert_node(d)\n",
    "root.insert_node(d)\n",
    "root.insert_node(e)\n",
    "root.insert_node(f)\n",
    "root.insert_node(g)\n",
    "root.bfs()"
   ]
  },
  {
   "cell_type": "code",
   "execution_count": null,
   "metadata": {},
   "outputs": [],
   "source": []
  }
 ],
 "metadata": {
  "kernelspec": {
   "display_name": "Python 3 (ipykernel)",
   "language": "python",
   "name": "python3"
  },
  "language_info": {
   "codemirror_mode": {
    "name": "ipython",
    "version": 3
   },
   "file_extension": ".py",
   "mimetype": "text/x-python",
   "name": "python",
   "nbconvert_exporter": "python",
   "pygments_lexer": "ipython3",
   "version": "3.10.4"
  }
 },
 "nbformat": 4,
 "nbformat_minor": 4
}
