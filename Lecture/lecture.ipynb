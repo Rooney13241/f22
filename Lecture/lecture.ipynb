{
 "cells": [
  {
   "cell_type": "code",
   "execution_count": null,
   "id": "06520906-2af7-49cc-a602-c9b6862813b2",
   "metadata": {},
   "outputs": [],
   "source": [
    "\n"
   ]
  },
  {
   "cell_type": "code",
   "execution_count": 15,
   "id": "ed4bccf6-17c6-4fd7-bab2-b122883dfa5a",
   "metadata": {},
   "outputs": [
    {
     "data": {
      "text/plain": [
       "b'/home/ami/f22/Lecture\\n'"
      ]
     },
     "execution_count": 15,
     "metadata": {},
     "output_type": "execute_result"
    }
   ],
   "source": [
    "from subprocess import check_output\n",
    "output = check_output(\"pwd\")\n",
    "output\n",
    "\n"
   ]
  },
  {
   "cell_type": "code",
   "execution_count": null,
   "id": "53c779cb-4b14-4fcf-9876-8f8d7e1018d5",
   "metadata": {},
   "outputs": [],
   "source": []
  },
  {
   "cell_type": "code",
   "execution_count": null,
   "id": "644c9b2d-4d31-43a4-ac5d-7a2f21d18542",
   "metadata": {},
   "outputs": [],
   "source": []
  },
  {
   "cell_type": "code",
   "execution_count": 18,
   "id": "a9503e62-60f9-45ea-a9f4-76d37368dcb2",
   "metadata": {},
   "outputs": [
    {
     "data": {
      "text/plain": [
       "b'git version 2.34.1\\n'"
      ]
     },
     "execution_count": 18,
     "metadata": {},
     "output_type": "execute_result"
    }
   ],
   "source": [
    "#run the git program (from Python)\n",
    "# we find out what version of git we have\n",
    "\n",
    "check_output(\"git --version\", shell = True) #opt 2 prefered"
   ]
  },
  {
   "cell_type": "code",
   "execution_count": 19,
   "id": "70f4c53a-0d2a-40fa-a606-a503a6746195",
   "metadata": {},
   "outputs": [
    {
     "data": {
      "text/plain": [
       "b'git version 2.34.1\\n'"
      ]
     },
     "execution_count": 19,
     "metadata": {},
     "output_type": "execute_result"
    }
   ],
   "source": [
    "check_output([\"git\", \"--version\"]) #opt 2 prefered"
   ]
  },
  {
   "cell_type": "code",
   "execution_count": 20,
   "id": "d1b83b47-1fa4-443d-a76c-35ed94ce730d",
   "metadata": {},
   "outputs": [
    {
     "data": {
      "text/plain": [
       "'git version 2.34.1\\n'"
      ]
     },
     "execution_count": 20,
     "metadata": {},
     "output_type": "execute_result"
    }
   ],
   "source": [
    "s = str(check_output([\"git\", \"--version\"]), \"utf-8\")\n",
    "s"
   ]
  },
  {
   "cell_type": "code",
   "execution_count": 23,
   "id": "49601f9e-6a02-43c3-9eea-237f464cf57f",
   "metadata": {},
   "outputs": [
    {
     "data": {
      "text/plain": [
       "'2.34.1'"
      ]
     },
     "execution_count": 23,
     "metadata": {},
     "output_type": "execute_result"
    }
   ],
   "source": [
    "# WANT: 2.34.1\n",
    "s.strip().split(\" \")[-1]\n"
   ]
  },
  {
   "cell_type": "code",
   "execution_count": null,
   "id": "fc39b26f-a4cd-45a5-8d8a-f4f8e5c3dc14",
   "metadata": {},
   "outputs": [],
   "source": []
  },
  {
   "cell_type": "markdown",
   "id": "7f53e7e1-12bf-4b42-9cb5-96c8436bde31",
   "metadata": {},
   "source": [
    "HOW LONG DOES IT TAKE TO RUN CODE\n"
   ]
  },
  {
   "cell_type": "code",
   "execution_count": 26,
   "id": "d11ca848-2c4b-4cfb-8c9b-3f7fa7f42557",
   "metadata": {},
   "outputs": [],
   "source": [
    "import time\n"
   ]
  },
  {
   "cell_type": "code",
   "execution_count": 27,
   "id": "d9c765b9-df47-4ca2-86fc-0dc11db8f293",
   "metadata": {},
   "outputs": [
    {
     "data": {
      "text/plain": [
       "1663165072.2611594"
      ]
     },
     "execution_count": 27,
     "metadata": {},
     "output_type": "execute_result"
    }
   ],
   "source": [
    "time.time() #number of seconds since Jan 1, 1970\n"
   ]
  },
  {
   "cell_type": "code",
   "execution_count": 29,
   "id": "474add4b-c3e0-40d3-a20a-94dfd0740acb",
   "metadata": {},
   "outputs": [
    {
     "data": {
      "text/plain": [
       "2.6941299438476562e-05"
      ]
     },
     "execution_count": 29,
     "metadata": {},
     "output_type": "execute_result"
    }
   ],
   "source": [
    "t0 = time.time()\n",
    "#Do Something (e.g., check_output)\n",
    "t1 = time.time()\n",
    "\n",
    "print(t1-t0) #seconds\n",
    "print((t1-t0) * 1e3) # milliseconds\n",
    "print((t1-t0) * le6) #microseconds"
   ]
  },
  {
   "cell_type": "code",
   "execution_count": 31,
   "id": "07c0effe-4d80-4b9c-afe3-330684b62907",
   "metadata": {},
   "outputs": [
    {
     "name": "stdout",
     "output_type": "stream",
     "text": [
      "0.07915496826171875\n"
     ]
    }
   ],
   "source": [
    "t0 = time.time()\n",
    "x = 3 +5\n",
    "t1 = time.time()\n",
    "\n",
    "print((t1-t0) * 1e3) # milliseconds\n"
   ]
  },
  {
   "cell_type": "code",
   "execution_count": 32,
   "id": "370dd521-93f5-43be-bee3-8c06fd32f49a",
   "metadata": {},
   "outputs": [
    {
     "name": "stdout",
     "output_type": "stream",
     "text": [
      "4.345417022705078\n"
     ]
    }
   ],
   "source": [
    "t0 = time.time()\n",
    "check_output(\"pwd\")\n",
    "t1 = time.time()\n",
    "\n",
    "print((t1-t0) * 1e3) # milliseconds"
   ]
  },
  {
   "cell_type": "code",
   "execution_count": 33,
   "id": "ffcaf301-3961-4764-8467-aa46062fbe19",
   "metadata": {},
   "outputs": [
    {
     "name": "stdout",
     "output_type": "stream",
     "text": [
      "45.976877212524414\n"
     ]
    }
   ],
   "source": [
    "t0 = time.time()\n",
    "check_output([\"python3\",\"-c\", \"print(3+5)\"])\n",
    "t1 = time.time()\n",
    "\n",
    "print((t1-t0) * 1e3) # milliseconds"
   ]
  },
  {
   "cell_type": "code",
   "execution_count": null,
   "id": "e89d7a9e-fc52-46ee-a337-dfb3f3be0d0f",
   "metadata": {},
   "outputs": [],
   "source": []
  }
 ],
 "metadata": {
  "kernelspec": {
   "display_name": "Python 3 (ipykernel)",
   "language": "python",
   "name": "python3"
  },
  "language_info": {
   "codemirror_mode": {
    "name": "ipython",
    "version": 3
   },
   "file_extension": ".py",
   "mimetype": "text/x-python",
   "name": "python",
   "nbconvert_exporter": "python",
   "pygments_lexer": "ipython3",
   "version": "3.10.4"
  }
 },
 "nbformat": 4,
 "nbformat_minor": 5
}
