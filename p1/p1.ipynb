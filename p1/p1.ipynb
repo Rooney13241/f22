{
 "cells": [
  {
   "cell_type": "code",
   "execution_count": 1,
   "id": "70680c35-bc02-4f89-a269-bfed88aa71b7",
   "metadata": {},
   "outputs": [],
   "source": [
    "# project: p1\n",
    "# submitter: debiche\n",
    "# partner: none\n",
    "# hours: 10"
   ]
  },
  {
   "cell_type": "code",
   "execution_count": 2,
   "id": "1cd672ad-5263-44c9-83b6-4818307016e7",
   "metadata": {},
   "outputs": [
    {
     "data": {
      "text/plain": [
       "float"
      ]
     },
     "execution_count": 2,
     "metadata": {},
     "output_type": "execute_result"
    }
   ],
   "source": [
    "#q1\n",
    "type(7/2)\n"
   ]
  },
  {
   "cell_type": "code",
   "execution_count": 3,
   "id": "576e56c6-2dee-4e83-9579-b50b275c4217",
   "metadata": {},
   "outputs": [
    {
     "data": {
      "text/plain": [
       "True"
      ]
     },
     "execution_count": 3,
     "metadata": {},
     "output_type": "execute_result"
    }
   ],
   "source": [
    "#q2\n",
    "x = 4\n",
    "maximum = 10\n",
    "minimum = 5\n",
    "outside = False\n",
    "if (x<5) or (x>10):   # True if x is outside the minimum-to-maximum range\n",
    "    outside = True\n",
    "outside"
   ]
  },
  {
   "cell_type": "code",
   "execution_count": 4,
   "id": "3472ecb1-f412-488c-8579-7cc0471b9dae",
   "metadata": {},
   "outputs": [
    {
     "data": {
      "text/plain": [
       "True"
      ]
     },
     "execution_count": 4,
     "metadata": {},
     "output_type": "execute_result"
    }
   ],
   "source": [
    "#q3\n",
    "word = \"KAFKAESQUE\"\n",
    "word = word.lower()\n",
    "x = word.find(\"esque\")     \n",
    "suffix_match = (\"esque\" == word[x:])\n",
    "suffix_match"
   ]
  },
  {
   "cell_type": "code",
   "execution_count": 5,
   "id": "669885a7-d8b7-4b95-b350-e9aa496deb5b",
   "metadata": {},
   "outputs": [],
   "source": [
    "def add(x, y=1):\n",
    "    return x + y\n",
    "\n",
    "    \n",
    "    "
   ]
  },
  {
   "cell_type": "code",
   "execution_count": 6,
   "id": "c07854ab-e5eb-4797-a00a-4c0b550a8a29",
   "metadata": {},
   "outputs": [
    {
     "data": {
      "text/plain": [
       "7"
      ]
     },
     "execution_count": 6,
     "metadata": {},
     "output_type": "execute_result"
    }
   ],
   "source": [
    "#q4\n",
    "add(3,4)\n"
   ]
  },
  {
   "cell_type": "code",
   "execution_count": 7,
   "id": "addf1d29-20fc-43cf-b241-1fe13d2a49fc",
   "metadata": {},
   "outputs": [
    {
     "data": {
      "text/plain": [
       "10"
      ]
     },
     "execution_count": 7,
     "metadata": {},
     "output_type": "execute_result"
    }
   ],
   "source": [
    "#q5\n",
    "add(9)"
   ]
  },
  {
   "cell_type": "code",
   "execution_count": 8,
   "id": "c150279f-7f0f-485b-b6ae-261cebf3211e",
   "metadata": {},
   "outputs": [
    {
     "data": {
      "text/plain": [
       "'positive'"
      ]
     },
     "execution_count": 8,
     "metadata": {},
     "output_type": "execute_result"
    }
   ],
   "source": [
    "#q6\n",
    "x = 4\n",
    "if x < 0:\n",
    "    status = \"negative\"\n",
    "elif x > 0:\n",
    "    status = \"positive\"\n",
    "else:\n",
    "    status = \"zero\"\n",
    "status"
   ]
  },
  {
   "cell_type": "code",
   "execution_count": 9,
   "id": "010bee7a-d2aa-4081-a54e-5b9b9545c1c2",
   "metadata": {},
   "outputs": [],
   "source": [
    "def smart_count(arr):\n",
    "    sum = 0\n",
    "    for num in arr:\n",
    "        if num >10:\n",
    "            continue\n",
    "        if num < 0:\n",
    "            break\n",
    "        sum += num\n",
    "    return sum"
   ]
  },
  {
   "cell_type": "code",
   "execution_count": 10,
   "id": "52671afc-0115-4190-ba22-b10a604b72f7",
   "metadata": {},
   "outputs": [
    {
     "data": {
      "text/plain": [
       "14"
      ]
     },
     "execution_count": 10,
     "metadata": {},
     "output_type": "execute_result"
    }
   ],
   "source": [
    "#q7\n",
    "nums = [3, 4, 1, 6]\n",
    "smart_count(nums)"
   ]
  },
  {
   "cell_type": "code",
   "execution_count": 11,
   "id": "9a4ab64f-4040-4c49-88a4-64e19c518e18",
   "metadata": {},
   "outputs": [
    {
     "data": {
      "text/plain": [
       "6"
      ]
     },
     "execution_count": 11,
     "metadata": {},
     "output_type": "execute_result"
    }
   ],
   "source": [
    "#q8\n",
    "smart_count([2,1,11,3,15,-1,8,2])"
   ]
  },
  {
   "cell_type": "code",
   "execution_count": 12,
   "id": "ed5c18f0-6350-48b8-abfb-3c45a409dbd4",
   "metadata": {},
   "outputs": [
    {
     "data": {
      "text/plain": [
       "[[1, 6, {'x': 8, 'y': 5}],\n",
       " [3, 4, {'x': 9, 'y': 2}],\n",
       " [5, 2, {'x': 3, 'y': 1, 'z': 3.14}]]"
      ]
     },
     "execution_count": 12,
     "metadata": {},
     "output_type": "execute_result"
    }
   ],
   "source": [
    "#q9\n",
    "header = [\"A\", \"B\", \"C\"]\n",
    "\n",
    "coord1 = {\"x\": 8, \"y\": 5}\n",
    "coord2 = {\"x\": 9, \"y\": 2}\n",
    "coord3 = {\"x\": 3, \"y\": 1, \"z\": 3.14}\n",
    "\n",
    "rows = [\n",
    "    [1, 6, coord1],\n",
    "    [3, 4, coord2],\n",
    "    [5, 2, coord3],\n",
    "]\n",
    "rows"
   ]
  },
  {
   "cell_type": "code",
   "execution_count": 13,
   "id": "83d80ed8-98e9-445f-888e-61bf70ca3f56",
   "metadata": {},
   "outputs": [
    {
     "data": {
      "text/plain": [
       "8"
      ]
     },
     "execution_count": 13,
     "metadata": {},
     "output_type": "execute_result"
    }
   ],
   "source": [
    "#q10\n",
    "rows[0][-1][\"x\"]"
   ]
  },
  {
   "cell_type": "code",
   "execution_count": 14,
   "id": "9ac93628-4a70-464c-9acc-4e3866e4eba6",
   "metadata": {},
   "outputs": [
    {
     "data": {
      "text/plain": [
       "[[1, 6, {'x': 8, 'y': 5}],\n",
       " [3, 9999, {'x': 9, 'y': 2}],\n",
       " [5, 2, {'x': 3, 'y': 1, 'z': 3.14}]]"
      ]
     },
     "execution_count": 14,
     "metadata": {},
     "output_type": "execute_result"
    }
   ],
   "source": [
    "#q11\n",
    "import copy\n",
    "v2 = copy.deepcopy(rows)\n",
    "v2[0] = 8888    # first change\n",
    "rows\n",
    "v2 = copy.copy(rows)\n",
    "v2[1][1] = 9999 # second change\n",
    "rows"
   ]
  },
  {
   "cell_type": "code",
   "execution_count": 15,
   "id": "74d28b70-8297-4d75-bb1d-a5b880c73a88",
   "metadata": {},
   "outputs": [
    {
     "data": {
      "text/plain": [
       "10007"
      ]
     },
     "execution_count": 15,
     "metadata": {},
     "output_type": "execute_result"
    }
   ],
   "source": [
    "#q12\n",
    "sum = 0\n",
    "count = 0\n",
    "for x in range(len(rows)):\n",
    "    num = rows[count][header.index(\"B\")]\n",
    "    count += 1\n",
    "    sum += num\n",
    "sum\n"
   ]
  },
  {
   "cell_type": "code",
   "execution_count": 16,
   "id": "30e2343a-92b5-4f84-a9b1-60d1d0186641",
   "metadata": {},
   "outputs": [
    {
     "data": {
      "text/plain": [
       "[[3, 9999, {'x': 9, 'y': 2}],\n",
       " [1, 6, {'x': 8, 'y': 5}],\n",
       " [5, 2, {'x': 3, 'y': 1, 'z': 3.14}]]"
      ]
     },
     "execution_count": 16,
     "metadata": {},
     "output_type": "execute_result"
    }
   ],
   "source": [
    "#q13\n",
    "rows.sort(key=lambda row: row[header.index(\"B\")], reverse=True)\n",
    "rows"
   ]
  },
  {
   "cell_type": "code",
   "execution_count": 17,
   "id": "8b1094c8-a901-4592-9c25-814830f8f173",
   "metadata": {},
   "outputs": [
    {
     "data": {
      "text/plain": [
       "390.5156323143553"
      ]
     },
     "execution_count": 17,
     "metadata": {},
     "output_type": "execute_result"
    }
   ],
   "source": [
    "#q14\n",
    "import json\n",
    "usd = 400\n",
    "f = open(\"usd.json\")\n",
    "data = json.load(f)\n",
    "rate = data[\"eur\"][\"rate\"]\n",
    "euro = 400/rate\n",
    "f.close()\n",
    "euro"
   ]
  },
  {
   "cell_type": "code",
   "execution_count": 18,
   "id": "6a82c7c7-d3ae-465a-b9cc-9329d0550d9c",
   "metadata": {},
   "outputs": [],
   "source": [
    "def divide(x, y):\n",
    "    try:\n",
    "        return x / y\n",
    "    except ZeroDivisionError:\n",
    "        return float(\"nan\")\n",
    "    "
   ]
  },
  {
   "cell_type": "code",
   "execution_count": 19,
   "id": "c8d8ae00-a444-402d-8433-ca62cf0d10d0",
   "metadata": {},
   "outputs": [
    {
     "data": {
      "text/plain": [
       "1.5"
      ]
     },
     "execution_count": 19,
     "metadata": {},
     "output_type": "execute_result"
    }
   ],
   "source": [
    "#q15\n",
    "divide(3,2)\n",
    "\n"
   ]
  },
  {
   "cell_type": "code",
   "execution_count": 20,
   "id": "fecc2bda-f2c1-4865-8cbf-39a9fd98210e",
   "metadata": {},
   "outputs": [
    {
     "data": {
      "text/plain": [
       "nan"
      ]
     },
     "execution_count": 20,
     "metadata": {},
     "output_type": "execute_result"
    }
   ],
   "source": [
    "#q16\n",
    "divide(-3,0)"
   ]
  },
  {
   "cell_type": "code",
   "execution_count": 21,
   "id": "5dcb278d-fc83-4fbd-916f-ed48661b5583",
   "metadata": {},
   "outputs": [],
   "source": [
    "import os\n",
    "import pandas as pd\n",
    "\n",
    "years = {}\n",
    "os.getcwd()\n",
    "path = \"/home/ami/f22/p1/home-computers/\"\n",
    "for x in os.listdir(path):\n",
    "    point = x.find(\".\")\n",
    "    df = pd.read_csv(path+x, skiprows = 1)\n",
    "    df = df.set_index('Geographic Area Name')\n",
    "    years[int((x[point-4 :point]))] = df\n",
    "\n"
   ]
  },
  {
   "cell_type": "code",
   "execution_count": 22,
   "id": "fba26f3d-7634-4d86-b2bf-62844194c65d",
   "metadata": {},
   "outputs": [
    {
     "data": {
      "text/plain": [
       "[2013, 2014, 2015, 2016, 2017, 2018]"
      ]
     },
     "execution_count": 22,
     "metadata": {},
     "output_type": "execute_result"
    }
   ],
   "source": [
    "#q17\n",
    "sorted_years = sorted(years.keys())\n",
    "sorted_years"
   ]
  },
  {
   "cell_type": "code",
   "execution_count": 23,
   "id": "5ec93981-219e-4c71-bfc2-028a4a65669c",
   "metadata": {},
   "outputs": [
    {
     "data": {
      "text/plain": [
       "2371960"
      ]
     },
     "execution_count": 23,
     "metadata": {},
     "output_type": "execute_result"
    }
   ],
   "source": [
    "#q18\n",
    "df = years[2018]\n",
    "estimate = df.loc[\"Wisconsin\",\"Estimate!!Total\"]\n",
    "estimate"
   ]
  },
  {
   "cell_type": "code",
   "execution_count": 24,
   "id": "760a4133-fe09-4d12-9efa-4246883c659b",
   "metadata": {},
   "outputs": [
    {
     "data": {
      "text/plain": [
       "10285814"
      ]
     },
     "execution_count": 24,
     "metadata": {},
     "output_type": "execute_result"
    }
   ],
   "source": [
    "#q19\n",
    "no_computer = df[\"Estimate!!Total!!No Computer\"]\n",
    "sum_households = no_computer.sum()\n",
    "sum_households"
   ]
  },
  {
   "cell_type": "code",
   "execution_count": 25,
   "id": "be7542d5-e95d-494c-b33a-4d99cb7ee324",
   "metadata": {},
   "outputs": [
    {
     "data": {
      "text/plain": [
       "0.12375641594322287"
      ]
     },
     "execution_count": 25,
     "metadata": {},
     "output_type": "execute_result"
    }
   ],
   "source": [
    "#q20\n",
    "moe = df[\"Margin of Error!!Total!!No Computer\"]\n",
    "max_moe = (moe/no_computer).max()\n",
    "max_moe"
   ]
  },
  {
   "cell_type": "code",
   "execution_count": 26,
   "id": "93250fa5-d9f9-4445-b58b-c6ac4059d9b2",
   "metadata": {},
   "outputs": [
    {
     "data": {
      "text/plain": [
       "{'Illinois': 8.524143737625552,\n",
       " 'Indiana': 9.463486214247707,\n",
       " 'Iowa': 9.468929459023103,\n",
       " 'Michigan': 8.936374942955922,\n",
       " 'Minnesota': 7.491847623005652,\n",
       " 'Wisconsin': 9.582497175331794}"
      ]
     },
     "execution_count": 26,
     "metadata": {},
     "output_type": "execute_result"
    }
   ],
   "source": [
    "#q21\n",
    "states = [\"Illinois\", \"Indiana\",\"Iowa\",\"Michigan\",\"Minnesota\",\"Wisconsin\"]\n",
    "dict = {}\n",
    "for state in states:\n",
    "    dict[state] = (no_computer[state] / df.loc[state, \"Estimate!!Total\"]) *100\n",
    "dict"
   ]
  },
  {
   "cell_type": "code",
   "execution_count": 27,
   "id": "3e1e561a-3130-4d23-9569-086fa16de9f3",
   "metadata": {},
   "outputs": [
    {
     "data": {
      "image/png": "[encoded data removed]",
      "text/plain": [
       "<Figure size 640x480 with 1 Axes>"
      ]
     },
     "metadata": {},
     "output_type": "display_data"
    }
   ],
   "source": [
    "#q22\n",
    "s = pd.Series(dict)\n",
    "ax = s.plot.bar(xlabel=\"Geographic Area Name\", ylabel=\"% of Households w/o Computers\")\n"
   ]
  },
  {
   "cell_type": "code",
   "execution_count": 43,
   "id": "6e31d20d-d7b3-49ba-8734-8d76ea9571cd",
   "metadata": {},
   "outputs": [
    {
     "data": {
      "text/plain": [
       "{2013: 386.475,\n",
       " 2014: 347.4,\n",
       " 2015: 315.939,\n",
       " 2016: 270.412,\n",
       " 2017: 246.916,\n",
       " 2018: 227.293}"
      ]
     },
     "execution_count": 43,
     "metadata": {},
     "output_type": "execute_result"
    },
    {
     "data": {
      "image/png": "[encoded data removed]",
      "text/plain": [
       "<Figure size 640x480 with 1 Axes>"
      ]
     },
     "metadata": {},
     "output_type": "display_data"
    }
   ],
   "source": [
    "#q23\n",
    "data = {}\n",
    "for key in sorted_years:\n",
    "    df = years[key]\n",
    "    data[key] = (df.loc[\"Wisconsin\"][\"Estimate!!Total!!No Computer\"]) / 1000\n",
    "\n",
    "datapd = pd.Series(data) \n",
    "datax = datapd.plot(xlabel= \"Year\", ylabel= \"WI Households without Computers(thousands)\",yticks=range(0,400,100))\n",
    "datax\n",
    "data"
   ]
  },
  {
   "cell_type": "code",
   "execution_count": 29,
   "id": "edec8d07-300b-47b9-803c-ab98be716400",
   "metadata": {},
   "outputs": [
    {
     "data": {
      "text/plain": [
       "<AxesSubplot:xlabel='Smartphones (millions)', ylabel='Tablets (millions)'>"
      ]
     },
     "execution_count": 29,
     "metadata": {},
     "output_type": "execute_result"
    },
    {
     "data": {
      "image/png": "[encoded data removed]",
      "text/plain": [
       "<Figure size 640x480 with 1 Axes>"
      ]
     },
     "metadata": {},
     "output_type": "display_data"
    }
   ],
   "source": [
    "#q24\n",
    "df = years[2018]\n",
    "smartphone_series = pd.Series((df[\"Estimate!!Total!!Has one or more types of computing devices!!Smartphone\"]))\n",
    "tablets_series = pd.Series(df[\"Estimate!!Total!!Has one or more types of computing devices!!Tablet or other portable wireless computer\"])\n",
    "frame = { 'Smartphones (millions)': smartphone_series, 'Tablets (millions)':tablets_series}\n",
    "result = pd.DataFrame(frame)\n",
    "result = (result/1000000)\n",
    "result.plot.scatter(x= 'Smartphones (millions)', y= 'Tablets (millions)',legend = False, xticks=(0.0,2.5,5.0,7.5,10.0))"
   ]
  },
  {
   "cell_type": "code",
   "execution_count": 30,
   "id": "bf006a25-71c0-4f8e-98f9-527977900cc0",
   "metadata": {},
   "outputs": [
    {
     "name": "stderr",
     "output_type": "stream",
     "text": [
      "Already on 'main'\n"
     ]
    },
    {
     "data": {
      "text/plain": [
       "'commit 660994efc761efdfd49ca442b73f6712dc77b6cf'"
      ]
     },
     "execution_count": 30,
     "metadata": {},
     "output_type": "execute_result"
    }
   ],
   "source": [
    "#q25\n",
    "from subprocess import check_output\n",
    "path = os.getcwd() + \"/flask\"\n",
    "output = check_output([\"git\",\"checkout\",\"main\"], cwd=path)\n",
    "output = check_output([\"git\",\"log\"], cwd=path, encoding=\"utf-8\").split('\\n',1)[0]\n",
    "output"
   ]
  },
  {
   "cell_type": "code",
   "execution_count": 31,
   "id": "de918793-1f85-433a-ba06-f0d6c6164a42",
   "metadata": {},
   "outputs": [
    {
     "name": "stderr",
     "output_type": "stream",
     "text": [
      "Already on 'main'\n"
     ]
    },
    {
     "data": {
      "text/plain": [
       "['7b5015010bc8c2a2d56c7c50b37e5b9facdad102',\n",
       " '40e0024d7b87150ed694829a5335bd2435962225',\n",
       " '6dd92ae4b32c336564231e10db12458a8b9261ca',\n",
       " '1246f4088a4fdc00a79f8029ff5d77bfe4fc9b14',\n",
       " 'c4f5c2fb9afc1679c085500830bd53fab93ad885',\n",
       " '1d8432ebfd1637eacab79a15e9b7963bf061371c',\n",
       " 'fc94599285aa1aec50b3c9426697249e55edda0a',\n",
       " 'c33675f0251071ea47ce166b81ce8c637842f091',\n",
       " '2d9bb692728fd76b19e467499caa4f5fcb07aede',\n",
       " 'ca520fb7e4c29afccc637e61c11429a0f3e8d5ad',\n",
       " '08f1f0dc32004fae01cf96d1eed84e6461e698e5',\n",
       " '8009bd986940378bba1399dbfce90d03e441467b',\n",
       " 'a42728568e18bedf588be2357b56021ab85b9fad',\n",
       " '959b5df00431c436474c5abca304e631c0de7721',\n",
       " '4affedec356ad8c9e6a107578f03fc7f5c615064',\n",
       " 'de03143f6ecf9a36dd32f16f07309c64d4de03b0',\n",
       " 'a01e8b49ca66608f0bd46134ff02deeb5724c799',\n",
       " '36071ca1f42a26ef327e9d14e4909a8c92cd4fae',\n",
       " '51c9829a9cdfa2bf301431f686d7a404cc7c5083',\n",
       " '2f5a4f8dbc832b0daebcd66ea8b3969589191fa7',\n",
       " '03148dba6b26a2694da1d466584f50189c52e7b3',\n",
       " 'ef524f2cfd65377b3b9ce896e7a710472b13c0f6',\n",
       " 'f2dc38cda61f76c64b97ab9f730accc986a4b188',\n",
       " '03168a5d53457fdb8676a4ac9fca0f76a23c6852',\n",
       " '0b8e01b4450d0ba8cb65751d866568fddc155fa4',\n",
       " '6a3a046f55755f0691568431e68a8bfea8d89df0',\n",
       " 'd78b04a3fca8d8887382606897d4a97e55062fda',\n",
       " '4671429a509094f36e2294055340197091d39979',\n",
       " '4e7aa9e7f7a86ee0ea4b6801694c13151518cb52',\n",
       " '85ca089dde8814c4a42ad4574cddce25d60e5e25',\n",
       " '8171da88a49eba769d313a51591ee8575be59762',\n",
       " 'df929c6c77ea5490a969275e45075c29711a498c',\n",
       " '574e81f9c8bbdc41958e1e7a7613633b091101f8',\n",
       " '1fff3e598126a084348ec2c112fdd3bc6b9a1ee0',\n",
       " '05f36c7f7e2df36ee28f90d99632162579b1287c',\n",
       " '4e1b3e1134eb478563bc434d794085d0a412cb84',\n",
       " '8e9bd5f009bb8756a2a7d76a4b792323eeee49d6',\n",
       " '9dfab582d065521e9350327801ed2c5ced1c8fa1',\n",
       " '3d719f35f5c1ee4ce3dc01fb2167ef49c0180cf6',\n",
       " '7d6b8e9ab3e738d69e39ad53a7c0f6a552d5284a',\n",
       " 'a9d4ea81da28ee9c894bf9d45adc4cfa9d52fddc',\n",
       " '727c701686c18c4a27ca523eb0c5862d497be24e',\n",
       " '4edec48b74dbb9d571e927b69b24c30ec0624975',\n",
       " '625eba4bb403296a8bbc1e72cc9cf4a5126f6c02',\n",
       " '4aa76212d1be9b17a57249549c2a73fb10b6cda8',\n",
       " '3b36bef2e6165bb4dad73d17f23ee1879e99f497',\n",
       " '44b42e0fbd93d86e0f4e929bda8e5fb63e81035d',\n",
       " '4ec7d2a0d8eac4f915dc0d38a886cd57045bb0c4',\n",
       " 'b15ad394279fc3b7f998fa56857f334a7c0156f6',\n",
       " '33850c0ebd23ae615e6823993d441f46d80b1ff0']"
      ]
     },
     "execution_count": 31,
     "metadata": {},
     "output_type": "execute_result"
    }
   ],
   "source": [
    "#q26\n",
    "output = check_output([\"git\",\"checkout\",\"main\"], cwd=path)\n",
    "output = check_output([\"git\",\"log\"], cwd=path, encoding=\"utf-8\").split('\\n')\n",
    "\n",
    "list = []\n",
    "word_length=6\n",
    "for x in output:\n",
    "    if x.startswith(\"commit\"):\n",
    "        split = x.split()\n",
    "        if len(split) == 2:\n",
    "            list.append(split[1])\n",
    "list[-50:]        "
   ]
  },
  {
   "cell_type": "code",
   "execution_count": 32,
   "id": "0362b63d-4218-4fdd-8489-c40e06d86023",
   "metadata": {},
   "outputs": [
    {
     "name": "stderr",
     "output_type": "stream",
     "text": [
      "Note: switching to '4ec7d2a0d8eac4f915dc0d38a886cd57045bb0c4'.\n",
      "\n",
      "You are in 'detached HEAD' state. You can look around, make experimental\n",
      "changes and commit them, and you can discard any commits you make in this\n",
      "state without impacting any branches by switching back to a branch.\n",
      "\n",
      "If you want to create a new branch to retain commits you create, you may\n",
      "do so (now or later) by using -c with the switch command. Example:\n",
      "\n",
      "  git switch -c <new-branch-name>\n",
      "\n",
      "Or undo this operation with:\n",
      "\n",
      "  git switch -\n",
      "\n",
      "Turn off this advice by setting config variable advice.detachedHead to false\n",
      "\n",
      "HEAD is now at 4ec7d2a0 Started working on documentation.\n"
     ]
    },
    {
     "data": {
      "text/plain": [
       "\"\\n                        // Flask //\\n\\n     because a pocket knife is not the only thing that\\n                    might come in handy\\n\\n\\n    ~ What is Flask?\\n\\n      Flask is a microframework for Python based on Werkzeug\\n      and Jinja2.  It's intended for small scale applications\\n      and was development with best intentions in mind.\\n\\n   ~ Is it ready?\\n\\n      Nope, this is still work in progress, but I am happy to\\n      accept patches and improvements already.\\n\""
      ]
     },
     "execution_count": 32,
     "metadata": {},
     "output_type": "execute_result"
    }
   ],
   "source": [
    "#q27\n",
    "path = os.getcwd() + \"/flask\"\n",
    "commit = list[-3]\n",
    "output = check_output([\"git\",\"checkout\",\"4ec7d2a0d8eac4f915dc0d38a886cd57045bb0c4\"], cwd=path)\n",
    "output\n",
    "f = open(\"flask/README\")\n",
    "data = f.read()\n",
    "f.close()\n",
    "data"
   ]
  },
  {
   "cell_type": "code",
   "execution_count": 33,
   "id": "16d02563-7e9b-4d70-b114-40cc5b644684",
   "metadata": {},
   "outputs": [
    {
     "name": "stderr",
     "output_type": "stream",
     "text": [
      "Previous HEAD position was 4ec7d2a0 Started working on documentation.\n",
      "Switched to branch 'main'\n"
     ]
    },
    {
     "data": {
      "text/plain": [
       "{'pallets': 204,\n",
       " 'pgjones': 14,\n",
       " 'greyli': 42,\n",
       " 'ThiefMaster': 11,\n",
       " 'jeffwidman': 8,\n",
       " 'garenchan': 8,\n",
       " 'davidism': 45,\n",
       " 'dawran6': 7,\n",
       " 'untitaker': 20,\n",
       " 'lord63-forks': 5,\n",
       " 'methane': 5,\n",
       " 'Winnetou': 6,\n",
       " 'defuz': 6,\n",
       " 'ThomasWaldmann': 13,\n",
       " 'SimonSapin': 11}"
      ]
     },
     "execution_count": 33,
     "metadata": {},
     "output_type": "execute_result"
    }
   ],
   "source": [
    "#q28\n",
    "output = check_output([\"git\",\"checkout\",\"main\"], cwd=path)\n",
    "output = check_output([\"git\",\"log\"], cwd=path, encoding=\"utf-8\").split('\\n')\n",
    "pull_users = {}\n",
    "for line in output:\n",
    "    if \"Merge pull request\" in line:\n",
    "        pos = line.find(\"from\")\n",
    "        pos+=5\n",
    "        slash = line.find(\"/\")\n",
    "        if slash != -1:\n",
    "            name = line[pos:slash]\n",
    "            if name in pull_users:\n",
    "                pull_users[name] += 1\n",
    "            else:\n",
    "                pull_users[name] = 1\n",
    "user_list = {}\n",
    "for key in pull_users:\n",
    "    if pull_users[key] >= 5:\n",
    "        user_list[key] = pull_users[key]\n",
    "user_list      "
   ]
  },
  {
   "cell_type": "code",
   "execution_count": 34,
   "id": "7424ff5e-c62e-460f-af24-f574d131270a",
   "metadata": {},
   "outputs": [
    {
     "data": {
      "text/plain": [
       "'ERROR: unknown command \"instal\" - maybe you meant \"install\"\\n'"
      ]
     },
     "execution_count": 34,
     "metadata": {},
     "output_type": "execute_result"
    }
   ],
   "source": [
    "#q29\n",
    "import subprocess\n",
    "\n",
    "try:\n",
    "    msg = check_output([\"pip3\", \"instal\"], stderr=subprocess.STDOUT)\n",
    "except subprocess.CalledProcessError as e:\n",
    "    msg = e.output\n",
    "msg = msg.decode('UTF-8')\n",
    "msg"
   ]
  },
  {
   "cell_type": "code",
   "execution_count": 35,
   "id": "7aaf3f93-a81d-4a11-8258-0307f8f1116a",
   "metadata": {},
   "outputs": [],
   "source": [
    "def rand_df(rows):\n",
    "    return pd.DataFrame(np.random.randint(10, size=(rows, 4)),\n",
    "                        columns=[\"A\", \"B\", \"C\", \"D\"],\n",
    "                        index=[f\"r{i}\" for i in range(1, rows+1)])"
   ]
  },
  {
   "cell_type": "code",
   "execution_count": 36,
   "id": "3080653e-0e2f-49a4-9237-9f12a9e231de",
   "metadata": {},
   "outputs": [
    {
     "data": {
      "text/plain": [
       "<AxesSubplot:xlabel='Rows', ylabel='Milliseconds'>"
      ]
     },
     "execution_count": 36,
     "metadata": {},
     "output_type": "execute_result"
    },
    {
     "data": {
      "image/png": "[encoded data removed]",
      "text/plain": [
       "<Figure size 640x480 with 1 Axes>"
      ]
     },
     "metadata": {},
     "output_type": "display_data"
    }
   ],
   "source": [
    "#q30\n",
    "import time\n",
    "import numpy as np\n",
    "\n",
    "times_df = pd.DataFrame(dtype = float)\n",
    "for x in range(1000,5400,400):\n",
    "    df = rand_df(x)\n",
    "    t0 = time.time()\n",
    "    # HOW LONG DOES THIS TAKE TO RUN, FOR DATAFRAMES WITH DIFFERENT NUMBERS OF ROWS?\n",
    "    for row in df.iterrows():\n",
    "        pass\n",
    "    t1 = time.time()\n",
    "    times_df.at[x,\"iterrows\"] = ((t1-t0)*1000)\n",
    "    t2 = time.time()\n",
    "    # HOW LONG DOES THIS TAKE TO RUN, FOR DATAFRAMES WITH DIFFERENT NUMBERS OF ROWS?\n",
    "    for row in df.itertuples():\n",
    "        pass\n",
    "    t3 = time.time()\n",
    "    times_df.at[x,\"itertuples\"]=((t3-t2)*1000)\n",
    "    \n",
    "times_df.plot.line(xlabel = \"Rows\", ylabel= \"Milliseconds\", xticks=range(1000,6000,1000),yticks=range(0,175,25))\n",
    "\n"
   ]
  },
  {
   "cell_type": "code",
   "execution_count": null,
   "id": "43c54a33-3144-4ef6-86cb-0044035add78",
   "metadata": {},
   "outputs": [],
   "source": []
  },
  {
   "cell_type": "code",
   "execution_count": 37,
   "id": "0f6ee808-573e-4f44-ae27-36be207a513e",
   "metadata": {},
   "outputs": [
    {
     "data": {
      "text/plain": [
       "<AxesSubplot:xlabel='Rows', ylabel='Milliseconds'>"
      ]
     },
     "execution_count": 37,
     "metadata": {},
     "output_type": "execute_result"
    },
    {
     "data": {
      "image/png": "[encoded data removed]",
      "text/plain": [
       "<Figure size 640x480 with 1 Axes>"
      ]
     },
     "metadata": {},
     "output_type": "display_data"
    }
   ],
   "source": [
    "#q31\n",
    "times_df = pd.DataFrame(dtype = float)\n",
    "for x in range(1000,5400,400):\n",
    "    df = rand_df(x)\n",
    "    t0 = time.time()\n",
    "    # HOW LONG DOES THIS TAKE TO RUN, FOR DATAFRAMES WITH DIFFERENT NUMBERS OF ROWS?\n",
    "    total = 0\n",
    "    for idx in df.index:\n",
    "        for col in df.columns:\n",
    "            total += df.loc[idx, col]\n",
    "    t1 = time.time()\n",
    "    times_df.at[x,\"loc\"] = ((t1-t0)*1000)\n",
    "    t2 = time.time()\n",
    "    # HOW LONG DOES THIS TAKE TO RUN, FOR DATAFRAMES WITH DIFFERENT NUMBERS OF ROWS?\n",
    "    total = 0\n",
    "    for idx in df.index:\n",
    "        for col in df.columns:\n",
    "            total += df.at[idx, col]\n",
    "    t3 = time.time()\n",
    "    times_df.at[x,\"at\"]=((t3-t2)*1000)\n",
    "times_df.plot.line(xlabel = \"Rows\", ylabel= \"Milliseconds\", xticks=range(1000,6000,1000),yticks=range(0,175,25))\n"
   ]
  },
  {
   "cell_type": "code",
   "execution_count": 38,
   "id": "bb8ce095-006b-460c-bc93-c16075fe3b30",
   "metadata": {},
   "outputs": [],
   "source": [
    "def laugh(x):\n",
    "    return \"ha\" * x"
   ]
  },
  {
   "cell_type": "code",
   "execution_count": 39,
   "id": "fd2b5a9e-0626-4c4d-9eb6-7b3f658b165f",
   "metadata": {},
   "outputs": [
    {
     "data": {
      "text/plain": [
       "<AxesSubplot:xlabel='Rows', ylabel='Milliseconds'>"
      ]
     },
     "execution_count": 39,
     "metadata": {},
     "output_type": "execute_result"
    },
    {
     "data": {
      "image/png": "[encoded data removed]",
      "text/plain": [
       "<Figure size 640x480 with 1 Axes>"
      ]
     },
     "metadata": {},
     "output_type": "display_data"
    }
   ],
   "source": [
    "#q32\n",
    "def laugh(x):\n",
    "    return \"ha\" * x\n",
    "times_df = pd.DataFrame(dtype = float)\n",
    "for x in range(1000,20500,500):\n",
    "    df = rand_df(x)\n",
    "    t0 = time.time()\n",
    "    # HOW LONG DOES THIS TAKE TO RUN, FOR DATAFRAMES WITH DIFFERENT NUMBERS OF ROWS?\n",
    "    result = []\n",
    "    for val in df[\"A\"]:\n",
    "        result.append(laugh(val))\n",
    "    t1 = time.time()\n",
    "    times_df.at[x,\"loop\"] = ((t1-t0)*1000)\n",
    "    t2 = time.time()\n",
    "    # HOW LONG DOES THIS TAKE TO RUN, FOR DATAFRAMES WITH DIFFERENT NUMBERS OF ROWS?\n",
    "    result = df[\"A\"].apply(laugh).tolist()\n",
    "    t3 = time.time()\n",
    "    times_df.at[x,\".apply\"]=((t3-t2)*1000)\n",
    "times_df.plot.line(xlabel = \"Rows\", ylabel= \"Milliseconds\", xticks=range(5000,25000,5000),yticks=range(0,10,2))\n"
   ]
  },
  {
   "cell_type": "code",
   "execution_count": null,
   "id": "a77986a1-e7a7-4248-ac66-dee47df83382",
   "metadata": {},
   "outputs": [],
   "source": []
  }
 ],
 "metadata": {
  "kernelspec": {
   "display_name": "Python 3 (ipykernel)",
   "language": "python",
   "name": "python3"
  },
  "language_info": {
   "codemirror_mode": {
    "name": "ipython",
    "version": 3
   },
   "file_extension": ".py",
   "mimetype": "text/x-python",
   "name": "python",
   "nbconvert_exporter": "python",
   "pygments_lexer": "ipython3",
   "version": "3.10.4"
  }
 },
 "nbformat": 4,
 "nbformat_minor": 5
}
