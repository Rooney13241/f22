{
 "cells": [
  {
   "cell_type": "code",
   "execution_count": 1,
   "id": "c05c9780-65a2-4221-9602-698964d92cf3",
   "metadata": {},
   "outputs": [],
   "source": [
    "from loans import Loan\n",
    "from loans import Applicant\n",
    "import loans\n",
    "from search import BST\n",
    "from search import Node\n",
    "from loans import Bank\n",
    "import pandas as pd\n",
    "import time"
   ]
  },
  {
   "cell_type": "code",
   "execution_count": 2,
   "id": "877395e6-c638-4ee8-91f5-50f777897f81",
   "metadata": {},
   "outputs": [],
   "source": [
    "%load_ext autoreload\n",
    "%autoreload 2"
   ]
  },
  {
   "cell_type": "code",
   "execution_count": 3,
   "id": "dc1b7648-d66a-4724-bae4-d471e93eeaf6",
   "metadata": {},
   "outputs": [
    {
     "data": {
      "text/plain": [
       "Applicant('20-30', ['Asian', 'Black or African American', 'American Indian or Alaska Native'])"
      ]
     },
     "execution_count": 3,
     "metadata": {},
     "output_type": "execute_result"
    }
   ],
   "source": [
    "applicant = Applicant(\"20-30\", [\"1\", \"2\", \"3\"])\n",
    "applicant"
   ]
  },
  {
   "cell_type": "code",
   "execution_count": 4,
   "id": "71ed3223-2fb8-47f2-b727-7ab416881e6c",
   "metadata": {},
   "outputs": [
    {
     "data": {
      "text/plain": [
       "20"
      ]
     },
     "execution_count": 4,
     "metadata": {},
     "output_type": "execute_result"
    }
   ],
   "source": [
    "applicant.lower_age()"
   ]
  },
  {
   "cell_type": "code",
   "execution_count": 5,
   "id": "e7b9447c-aa7d-4525-850b-ab8bbf9997d7",
   "metadata": {},
   "outputs": [
    {
     "data": {
      "text/plain": [
       "[Applicant('20-30', ['Black or African American', 'American Indian or Alaska Native']),\n",
       " Applicant('<25', ['White']),\n",
       " Applicant('35-44', ['Chinese']),\n",
       " Applicant('>75', ['Samoan', 'Other Pacific Islander'])]"
      ]
     },
     "execution_count": 5,
     "metadata": {},
     "output_type": "execute_result"
    }
   ],
   "source": [
    "sorted([\n",
    "    Applicant(\">75\", [\"43\", \"44\"]),\n",
    "    Applicant(\"20-30\", [\"1\", \"3\"]),\n",
    "    Applicant(\"35-44\", [\"22\"]),\n",
    "    Applicant(\"<25\", [\"5\"]),\n",
    "])"
   ]
  },
  {
   "cell_type": "code",
   "execution_count": 6,
   "id": "ac95ee3e-18a6-49c1-8fe5-bdb3fecc8255",
   "metadata": {},
   "outputs": [
    {
     "name": "stdout",
     "output_type": "stream",
     "text": [
      "A : [9, 5]\n",
      "B : [22]\n",
      "C : [33]\n"
     ]
    }
   ],
   "source": [
    "tree = BST()\n",
    "tree.add(\"A\", 9)\n",
    "tree.add(\"A\", 5)\n",
    "tree.add(\"B\", 22)\n",
    "tree.add(\"C\", 33)\n",
    "tree.dump()"
   ]
  },
  {
   "cell_type": "code",
   "execution_count": 7,
   "id": "f9578166-abec-4247-a190-0527da6241e5",
   "metadata": {},
   "outputs": [
    {
     "data": {
      "text/plain": [
       "[]"
      ]
     },
     "execution_count": 7,
     "metadata": {},
     "output_type": "execute_result"
    }
   ],
   "source": [
    "t = BST()\n",
    "t.add(\"B\", 3)\n",
    "assert len(t.root) == 1\n",
    "t.add(\"A\", 2)\n",
    "assert len(t.root) == 2\n",
    "t.add(\"C\", 1)\n",
    "assert len(t.root) == 3\n",
    "t.add(\"C\", 4)\n",
    "assert len(t.root) == 4\n",
    "t.root.lookup(\"A\")\n",
    "t.root.lookup(\"C\")\n",
    "t.root.lookup(\"Z\")"
   ]
  },
  {
   "cell_type": "code",
   "execution_count": 8,
   "id": "7b5568a0-c034-4a50-a29e-d4b08575e94d",
   "metadata": {},
   "outputs": [
    {
     "data": {
      "text/plain": [
       "[Applicant('55-64', ['White'])]"
      ]
     },
     "execution_count": 8,
     "metadata": {},
     "output_type": "execute_result"
    }
   ],
   "source": [
    "loan = Loan(loans.values)\n",
    "loan.applicants"
   ]
  },
  {
   "cell_type": "code",
   "execution_count": 9,
   "id": "2beeb73b-fb10-487a-881b-d2ce83e6b1eb",
   "metadata": {},
   "outputs": [
    {
     "data": {
      "text/plain": [
       "3.0"
      ]
     },
     "execution_count": 9,
     "metadata": {},
     "output_type": "execute_result"
    }
   ],
   "source": [
    "loan.interest_rate"
   ]
  },
  {
   "cell_type": "code",
   "execution_count": 10,
   "id": "4b250ed6-001d-4476-bbe7-67b2ea5d3bd9",
   "metadata": {},
   "outputs": [
    {
     "name": "stdout",
     "output_type": "stream",
     "text": [
      "<Loan: 3.0% on $285000.0 with 1 applicant(s)>\n"
     ]
    }
   ],
   "source": [
    "print(loan)\n"
   ]
  },
  {
   "cell_type": "code",
   "execution_count": 11,
   "id": "5e9ec057-efb3-4afb-83ed-a5a864630bab",
   "metadata": {},
   "outputs": [
    {
     "data": {
      "text/plain": [
       "<Loan: 3.0% on $285000.0 with 1 applicant(s)>"
      ]
     },
     "execution_count": 11,
     "metadata": {},
     "output_type": "execute_result"
    }
   ],
   "source": [
    "loan"
   ]
  },
  {
   "cell_type": "code",
   "execution_count": 12,
   "id": "1c8671e8-4e65-4afd-9718-682ffc21f3e4",
   "metadata": {},
   "outputs": [
    {
     "name": "stdout",
     "output_type": "stream",
     "text": [
      "225000.0\n",
      "211750.0\n",
      "198102.5\n",
      "184045.575\n",
      "169566.94225000002\n",
      "154653.95051750002\n",
      "139293.56903302504\n",
      "123472.3761040158\n",
      "107176.54738713628\n",
      "90391.84380875036\n",
      "73103.59912301287\n",
      "55296.70709670326\n",
      "36955.60830960436\n",
      "18064.27655889249\n"
     ]
    }
   ],
   "source": [
    "for amt in loan.yearly_amounts(20000):\n",
    "    print(amt)"
   ]
  },
  {
   "cell_type": "code",
   "execution_count": 13,
   "id": "31a1d073-6142-4db1-a961-a63a3386ef23",
   "metadata": {},
   "outputs": [
    {
     "data": {
      "text/plain": [
       "'254900CN1DD55MJDFH69'"
      ]
     },
     "execution_count": 13,
     "metadata": {},
     "output_type": "execute_result"
    }
   ],
   "source": [
    "uwcu = loans.Bank(\"University of Wisconsin Credit Union\")\n",
    "uwcu.lei"
   ]
  },
  {
   "cell_type": "code",
   "execution_count": 14,
   "id": "8c45da2b-4a18-4700-a560-8c13f7ec2329",
   "metadata": {},
   "outputs": [
    {
     "data": {
      "text/plain": [
       "<Loan: 2.99% on $185000.0 with 2 applicant(s)>"
      ]
     },
     "execution_count": 14,
     "metadata": {},
     "output_type": "execute_result"
    }
   ],
   "source": [
    "uwcu[-1]"
   ]
  },
  {
   "cell_type": "code",
   "execution_count": 15,
   "id": "6cdce173-6973-41eb-afb2-7a7276403bbb",
   "metadata": {},
   "outputs": [
    {
     "data": {
      "text/plain": [
       "21153"
      ]
     },
     "execution_count": 15,
     "metadata": {},
     "output_type": "execute_result"
    }
   ],
   "source": [
    "len(uwcu)"
   ]
  },
  {
   "cell_type": "code",
   "execution_count": 16,
   "id": "3deeec45-ee4e-4ebd-903e-04e2f774433d",
   "metadata": {},
   "outputs": [
    {
     "data": {
      "text/plain": [
       "''"
      ]
     },
     "execution_count": 16,
     "metadata": {},
     "output_type": "execute_result"
    }
   ],
   "source": [
    "thing = loans.Bank(982173491287)\n",
    "thing.lei"
   ]
  },
  {
   "cell_type": "code",
   "execution_count": 17,
   "id": "14ea7f38-f2de-4b85-9518-bbfde03c948d",
   "metadata": {},
   "outputs": [],
   "source": [
    "# project: p2\n",
    "# submitter: debiche\n",
    "# partner: none\n",
    "# hours: 7"
   ]
  },
  {
   "cell_type": "code",
   "execution_count": 18,
   "id": "15b0cff9-fc7a-4fd5-88ce-f7c1fad02c8e",
   "metadata": {},
   "outputs": [],
   "source": [
    "bank = loans.Bank(\"First Home Bank\")"
   ]
  },
  {
   "cell_type": "code",
   "execution_count": 19,
   "id": "dc5588e1-aa43-4472-89fe-9310388dab49",
   "metadata": {},
   "outputs": [
    {
     "data": {
      "text/plain": [
       "2.962962962962963"
      ]
     },
     "execution_count": 19,
     "metadata": {},
     "output_type": "execute_result"
    }
   ],
   "source": [
    "#q1\n",
    "sum = 0.0\n",
    "count = 0.0\n",
    "for loan in bank.list:\n",
    "    if(loan.interest_rate != -1):\n",
    "        sum += loan.interest_rate\n",
    "        count += 1\n",
    "average = sum / count\n",
    "average"
   ]
  },
  {
   "cell_type": "code",
   "execution_count": 20,
   "id": "6324af6c-a450-41a3-a946-584bc9153d18",
   "metadata": {},
   "outputs": [
    {
     "data": {
      "text/plain": [
       "1.5777777777777777"
      ]
     },
     "execution_count": 20,
     "metadata": {},
     "output_type": "execute_result"
    }
   ],
   "source": [
    "#q2\n",
    "sum = 0\n",
    "count = 0\n",
    "\n",
    "for loan in bank.list:\n",
    "    sum += len(loan.applicants)\n",
    "    count += 1\n",
    "average = sum / count\n",
    "average"
   ]
  },
  {
   "cell_type": "code",
   "execution_count": 21,
   "id": "47159299-8018-4664-9fb2-13971ef38d6e",
   "metadata": {},
   "outputs": [
    {
     "data": {
      "text/plain": [
       "{'65-74': 21, '45-54': 21, '>74': 5, '25-34': 4, '35-44': 13, '55-64': 7}"
      ]
     },
     "execution_count": 21,
     "metadata": {},
     "output_type": "execute_result"
    }
   ],
   "source": [
    "#q3\n",
    "dict = {}\n",
    "for loan in bank.list:\n",
    "    for applicant in loan.applicants:\n",
    "        if(str(applicant.age) in dict):\n",
    "           dict[str(applicant.age)] += 1\n",
    "        else:\n",
    "           dict[str(applicant.age)] = 1\n",
    "dict  "
   ]
  },
  {
   "cell_type": "code",
   "execution_count": 22,
   "id": "c81f3db2-c393-4f6d-95a4-64a2df6cdd62",
   "metadata": {},
   "outputs": [],
   "source": [
    "tree = BST()\n",
    "\n",
    "for loan in bank.list:\n",
    "    tree.add(loan.interest_rate, loan)\n"
   ]
  },
  {
   "cell_type": "code",
   "execution_count": 23,
   "id": "b135ed23-9e89-43ae-8b1f-8e59a5ad41fa",
   "metadata": {},
   "outputs": [
    {
     "data": {
      "text/plain": [
       "18"
      ]
     },
     "execution_count": 23,
     "metadata": {},
     "output_type": "execute_result"
    }
   ],
   "source": [
    "#q4\n",
    "missing = len(tree.root.lookup(-1))\n",
    "missing"
   ]
  },
  {
   "cell_type": "code",
   "execution_count": 24,
   "id": "b2967f75-c004-489f-b60d-1d98b3a8327a",
   "metadata": {},
   "outputs": [
    {
     "data": {
      "text/plain": [
       "9"
      ]
     },
     "execution_count": 24,
     "metadata": {},
     "output_type": "execute_result"
    }
   ],
   "source": [
    "#q5\n",
    "def height(node):\n",
    "    if node is None:\n",
    "        return 0\n",
    "    else:\n",
    "        lDepth = height(node.left)\n",
    "        rDepth = height(node.right)\n",
    "        \n",
    "        if(lDepth > rDepth):\n",
    "            return lDepth + 1\n",
    "        else:\n",
    "            return rDepth + 1\n",
    "        \n",
    "height(tree.root)"
   ]
  },
  {
   "cell_type": "code",
   "execution_count": 25,
   "id": "07fc0a51-020b-4d7e-85ba-c8ef6e1883c7",
   "metadata": {},
   "outputs": [],
   "source": [
    "IndividualBank = loans.Bank(\"University of Wisconsin Credit Union\")"
   ]
  },
  {
   "cell_type": "code",
   "execution_count": 26,
   "id": "2cf966ed-a04b-4fb1-9bf3-30e75c13d442",
   "metadata": {},
   "outputs": [
    {
     "data": {
      "image/png": "[encoded data removed]",
      "text/plain": [
       "<Figure size 640x480 with 1 Axes>"
      ]
     },
     "metadata": {},
     "output_type": "display_data"
    }
   ],
   "source": [
    "#q6\n",
    "dict = {}\n",
    "loancount = 0\n",
    "t1 = time.time()\n",
    "t = BST()\n",
    "for loan in IndividualBank.list:\n",
    "    \n",
    "    t.add(loan.interest_rate, loan)\n",
    "    loancount += 1\n",
    "    t2 = time.time()\n",
    "    dict[loancount] = (t2-t1) * 1000\n",
    "    \n",
    "datapd = pd.Series(dict)\n",
    "datax = datapd.plot(xlabel = \"Loans added\", ylabel = \"Time in Milliseconds\", xticks = range(0, 24000, 4000))"
   ]
  },
  {
   "cell_type": "code",
   "execution_count": 27,
   "id": "ae5671fa-6d52-42fe-a3e9-44e021dc6bcf",
   "metadata": {},
   "outputs": [
    {
     "data": {
      "image/png": "[encoded data removed]",
      "text/plain": [
       "<Figure size 640x480 with 1 Axes>"
      ]
     },
     "metadata": {},
     "output_type": "display_data"
    }
   ],
   "source": [
    "#q7\n",
    "dict = {\"lookup type\" : [\"looping\", \"lookup\"], \"time\" : []}\n",
    "\n",
    "t1 = time.time()\n",
    "count = 0\n",
    "for loan in IndividualBank.list:\n",
    "    if(loan.interest_rate == -1):\n",
    "        count += 1\n",
    "t2 = time.time()\n",
    "dict[\"time\"].append((t2-t1)*1000)\n",
    "\n",
    "t1 = time.time()\n",
    "x = len(t.root.lookup(-1))\n",
    "t2 = time.time()\n",
    "dict[\"time\"].append((t2-t1)*1000)\n",
    "\n",
    "df = pd.DataFrame(dict)\n",
    "ax = df.plot.bar(x='lookup type', y='time', rot=0)"
   ]
  },
  {
   "cell_type": "code",
   "execution_count": 28,
   "id": "25266fd2-12a4-4e21-877b-f2b9a22cea11",
   "metadata": {},
   "outputs": [
    {
     "data": {
      "text/plain": [
       "{'race selection': [1, 2, 0, 3, 4, 5],\n",
       " 'applicants': [29646, 1134, 3409, 105, 3, 2]}"
      ]
     },
     "execution_count": 28,
     "metadata": {},
     "output_type": "execute_result"
    },
    {
     "data": {
      "image/png": "[encoded data removed]",
      "text/plain": [
       "<Figure size 640x480 with 1 Axes>"
      ]
     },
     "metadata": {},
     "output_type": "display_data"
    }
   ],
   "source": [
    "#q8\n",
    "dict = {\"race selection\" : [],\"applicants\": []}\n",
    "for loan in IndividualBank.list:\n",
    "    for applicant in loan.applicants:\n",
    "        if (len(applicant.race)) in dict[\"race selection\"]:\n",
    "            index = dict[\"race selection\"].index(len(applicant.race))\n",
    "            dict[\"applicants\"][index] += 1\n",
    "            \n",
    "        else:\n",
    "            dict[\"race selection\"].append(len(applicant.race))\n",
    "            dict[\"applicants\"].append(1)\n",
    "df = pd.DataFrame(dict)\n",
    "ax = df.plot.bar(x = 'race selection', y = 'applicants', rot = 0)\n",
    "dict"
   ]
  },
  {
   "cell_type": "code",
   "execution_count": 29,
   "id": "669cb50b-935d-4d47-a542-46f376c5fd86",
   "metadata": {},
   "outputs": [
    {
     "data": {
      "text/plain": [
       "9"
      ]
     },
     "execution_count": 29,
     "metadata": {},
     "output_type": "execute_result"
    }
   ],
   "source": [
    "#q9\n",
    "def leafCount(node):\n",
    "    if node is None:\n",
    "        return 0\n",
    "    if(node.left is None and node.right is None):\n",
    "        return 1\n",
    "    else:\n",
    "        return leafCount(node.left) + leafCount(node.right)\n",
    "leafCount(t.root)"
   ]
  },
  {
   "cell_type": "code",
   "execution_count": 30,
   "id": "26dd4d17-a43b-49c6-b0d6-2f719c9e5277",
   "metadata": {},
   "outputs": [
    {
     "data": {
      "text/plain": [
       "6.99"
      ]
     },
     "execution_count": 30,
     "metadata": {},
     "output_type": "execute_result"
    }
   ],
   "source": [
    "#q10\n",
    "def find_largest(node):\n",
    "    \n",
    "    current = node\n",
    "    \n",
    "    while current:\n",
    "        if not current.right:\n",
    "            return current.key\n",
    "        current = current.right\n",
    "\n",
    "def find_second_largest(node):\n",
    "    if(node is None or (node.left is None and node.right is None)):\n",
    "        return 0\n",
    "    current = node\n",
    "    \n",
    "    while current:\n",
    "        \n",
    "        if current.left and not current.right:\n",
    "            return find_largest(current.left)\n",
    "        \n",
    "        if (current.right and not current.right.left and not current.right.right):\n",
    "            return current.key\n",
    "        \n",
    "        current = current.right\n",
    "        \n",
    "find_second_largest(t.root)"
   ]
  },
  {
   "cell_type": "code",
   "execution_count": null,
   "id": "ed7cdc73-b843-4c58-8f1e-84883974ed57",
   "metadata": {},
   "outputs": [],
   "source": []
  }
 ],
 "metadata": {
  "kernelspec": {
   "display_name": "Python 3 (ipykernel)",
   "language": "python",
   "name": "python3"
  },
  "language_info": {
   "codemirror_mode": {
    "name": "ipython",
    "version": 3
   },
   "file_extension": ".py",
   "mimetype": "text/x-python",
   "name": "python",
   "nbconvert_exporter": "python",
   "pygments_lexer": "ipython3",
   "version": "3.10.4"
  }
 },
 "nbformat": 4,
 "nbformat_minor": 5
}
